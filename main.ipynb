{
 "cells": [
  {
   "cell_type": "markdown",
   "metadata": {},
   "source": [
    "# MLP main notebok"
   ]
  },
  {
   "cell_type": "markdown",
   "metadata": {},
   "source": [
    "## Libs"
   ]
  },
  {
   "cell_type": "code",
   "execution_count": 63,
   "metadata": {},
   "outputs": [],
   "source": [
    "from sklearn.neural_network import MLPClassifier\n",
    "from sklearn.model_selection import train_test_split\n",
    "from sklearn.datasets import load_breast_cancer\n",
    "from sklearn.metrics import confusion_matrix, ConfusionMatrixDisplay, classification_report\n",
    "\n",
    "import numpy as np\n",
    "\n",
    "import matplotlib.pyplot as plt"
   ]
  },
  {
   "cell_type": "markdown",
   "metadata": {},
   "source": [
    "## Load and Split data"
   ]
  },
  {
   "cell_type": "code",
   "execution_count": 65,
   "metadata": {},
   "outputs": [],
   "source": [
    "data = load_breast_cancer()\n",
    "X, y = data.data, data.target\n",
    "X_train, X_test, y_train, y_test = train_test_split(\n",
    "    X, y, test_size=0.33, random_state=42)"
   ]
  },
  {
   "cell_type": "markdown",
   "metadata": {},
   "source": [
    "## SKlearn implementation"
   ]
  },
  {
   "cell_type": "code",
   "execution_count": 57,
   "metadata": {},
   "outputs": [
    {
     "data": {
      "text/plain": [
       "<sklearn.metrics._plot.confusion_matrix.ConfusionMatrixDisplay at 0x23adbf21640>"
      ]
     },
     "execution_count": 57,
     "metadata": {},
     "output_type": "execute_result"
    },
    {
     "data": {
      "image/png": "[encoded data removed]",
      "text/plain": [
       "<Figure size 640x480 with 2 Axes>"
      ]
     },
     "metadata": {},
     "output_type": "display_data"
    }
   ],
   "source": [
    "skl_mlp = MLPClassifier(random_state=42, max_iter=300).fit(X_train, y_train)\n",
    "y_pred = skl_mlp.predict(X_test)\n",
    "cm = confusion_matrix(y_test, y_pred)\n",
    "disp = ConfusionMatrixDisplay(confusion_matrix=cm)\n",
    "disp.plot()"
   ]
  },
  {
   "cell_type": "code",
   "execution_count": 60,
   "metadata": {},
   "outputs": [
    {
     "name": "stdout",
     "output_type": "stream",
     "text": [
      "              precision    recall  f1-score   support\n",
      "\n",
      "           0       0.92      0.97      0.94        67\n",
      "           1       0.98      0.95      0.97       121\n",
      "\n",
      "    accuracy                           0.96       188\n",
      "   macro avg       0.95      0.96      0.95       188\n",
      "weighted avg       0.96      0.96      0.96       188\n",
      "\n"
     ]
    }
   ],
   "source": [
    "print(classification_report(y_test, y_pred))"
   ]
  },
  {
   "cell_type": "markdown",
   "metadata": {},
   "source": [
    "## Implementation from scratch"
   ]
  },
  {
   "cell_type": "code",
   "execution_count": 74,
   "metadata": {},
   "outputs": [],
   "source": [
    "class MLP:\n",
    "    '''\n",
    "    Our Multi-layer Perceptron classifier simplified implementation\n",
    "    \n",
    "    Attributes\n",
    "    ----------\n",
    "    x: numpy array\n",
    "        Input data\n",
    "    y: numpy array\n",
    "        Output data\n",
    "    hidden: int, default=100\n",
    "        Number of hidden neurons\n",
    "    output: int, default=2\n",
    "        Number of output neurons\n",
    "    '''\n",
    "    def __init__(self, x, y, hidden=100, output=2):\n",
    "        np.random.seed(42)\n",
    "        self.x = x\n",
    "        self.y = y\n",
    "        self.hidden = hidden\n",
    "        self.output = output\n",
    "        self.input = self.x.shape[1]\n",
    "\n",
    "        # Xavier initialization for bias and weights\n",
    "        self.w1 = np.random.rand(self.input, self.hidden) / np.sqrt(self.input)\n",
    "        self.b1 = np.zeros((1, self.hidden))\n",
    "        self.w2 = np.random.rand(self.hidden, self.output) / np.sqrt(self.hidden)\n",
    "        self.b2 = np.zeros((1, self.output))\n",
    "        self.wb_dict = {'w1': self.w1, 'b1': self.b1, 'w2': self.w2, 'b2': self.b2}\n",
    "\n",
    "    def feed_forward(self):\n",
    "        pass\n",
    "\n",
    "    def back_propagation(self):\n",
    "        pass\n",
    "\n",
    "    def fit(self):\n",
    "        pass"
   ]
  },
  {
   "cell_type": "code",
   "execution_count": 76,
   "metadata": {},
   "outputs": [
    {
     "data": {
      "text/plain": [
       "{'w1': array([[6.83813573e-02, 1.73575890e-01, 1.33643198e-01, ...,\n",
       "         7.80579533e-02, 4.64087637e-03, 1.96981894e-02],\n",
       "        [5.73815799e-03, 1.16192113e-01, 5.73932873e-02, ...,\n",
       "         1.63789175e-01, 1.61959082e-01, 1.42385143e-01],\n",
       "        [1.17218405e-01, 1.53617856e-02, 2.95092309e-02, ...,\n",
       "         3.94033484e-02, 1.13723721e-01, 1.55822439e-02],\n",
       "        ...,\n",
       "        [9.51752015e-02, 1.78194929e-01, 2.29222282e-02, ...,\n",
       "         1.13623815e-01, 1.79137745e-01, 3.47087494e-02],\n",
       "        [1.44707408e-01, 1.65758883e-01, 1.72295550e-01, ...,\n",
       "         5.15721733e-02, 7.76356898e-02, 6.85951124e-03],\n",
       "        [2.33451771e-02, 1.39769075e-01, 2.12420599e-06, ...,\n",
       "         5.65592662e-02, 5.29548269e-02, 1.59097708e-01]]),\n",
       " 'b1': array([[0., 0., 0., 0., 0., 0., 0., 0., 0., 0., 0., 0., 0., 0., 0., 0.,\n",
       "         0., 0., 0., 0., 0., 0., 0., 0., 0., 0., 0., 0., 0., 0., 0., 0.,\n",
       "         0., 0., 0., 0., 0., 0., 0., 0., 0., 0., 0., 0., 0., 0., 0., 0.,\n",
       "         0., 0., 0., 0., 0., 0., 0., 0., 0., 0., 0., 0., 0., 0., 0., 0.,\n",
       "         0., 0., 0., 0., 0., 0., 0., 0., 0., 0., 0., 0., 0., 0., 0., 0.,\n",
       "         0., 0., 0., 0., 0., 0., 0., 0., 0., 0., 0., 0., 0., 0., 0., 0.,\n",
       "         0., 0., 0., 0.]]),\n",
       " 'w2': array([[0.0672703 , 0.07966814],\n",
       "        [0.02504679, 0.06248741],\n",
       "        [0.0571746 , 0.08328304],\n",
       "        [0.09060871, 0.00121568],\n",
       "        [0.06740199, 0.00518358],\n",
       "        [0.05488587, 0.02876327],\n",
       "        [0.03067766, 0.03529585],\n",
       "        [0.06212924, 0.033405  ],\n",
       "        [0.07326991, 0.04045274],\n",
       "        [0.00683532, 0.07837598],\n",
       "        [0.02857583, 0.04327669],\n",
       "        [0.06854439, 0.03324562],\n",
       "        [0.00565857, 0.0373921 ],\n",
       "        [0.09444486, 0.06417344],\n",
       "        [0.06714791, 0.06322822],\n",
       "        [0.01989921, 0.04183339],\n",
       "        [0.07509398, 0.01013729],\n",
       "        [0.02778528, 0.02763191],\n",
       "        [0.04320189, 0.09803687],\n",
       "        [0.00675025, 0.0518701 ],\n",
       "        [0.01793647, 0.09706765],\n",
       "        [0.01133035, 0.0403601 ],\n",
       "        [0.0737885 , 0.07045544],\n",
       "        [0.04227286, 0.03465242],\n",
       "        [0.03976124, 0.02642763],\n",
       "        [0.02053329, 0.04830397],\n",
       "        [0.02685338, 0.02874617],\n",
       "        [0.06567561, 0.09685373],\n",
       "        [0.06036372, 0.00769795],\n",
       "        [0.00755836, 0.09514232],\n",
       "        [0.02972908, 0.0092067 ],\n",
       "        [0.05990446, 0.06236488],\n",
       "        [0.06485048, 0.0267402 ],\n",
       "        [0.00151107, 0.09650154],\n",
       "        [0.0250893 , 0.06760263],\n",
       "        [0.07066299, 0.06100074],\n",
       "        [0.03129074, 0.02710963],\n",
       "        [0.05976683, 0.08660956],\n",
       "        [0.09467337, 0.01059058],\n",
       "        [0.01548286, 0.09447363],\n",
       "        [0.07365352, 0.08829938],\n",
       "        [0.02026326, 0.05875859],\n",
       "        [0.07011396, 0.06801119],\n",
       "        [0.04081517, 0.00153949],\n",
       "        [0.05829261, 0.02531015],\n",
       "        [0.04502542, 0.0957581 ],\n",
       "        [0.03990353, 0.08398016],\n",
       "        [0.01885406, 0.06724605],\n",
       "        [0.0977007 , 0.01018931],\n",
       "        [0.00083199, 0.04335828],\n",
       "        [0.00926255, 0.07483843],\n",
       "        [0.09145487, 0.0434021 ],\n",
       "        [0.02587116, 0.04344033],\n",
       "        [0.07234478, 0.00090542],\n",
       "        [0.0589454 , 0.06132917],\n",
       "        [0.06376882, 0.02420221],\n",
       "        [0.07140527, 0.00913915],\n",
       "        [0.01992703, 0.087747  ],\n",
       "        [0.07387232, 0.00137456],\n",
       "        [0.02483763, 0.02144065],\n",
       "        [0.02708063, 0.02475598],\n",
       "        [0.00625263, 0.04589405],\n",
       "        [0.07327335, 0.06067317],\n",
       "        [0.06728717, 0.00811492],\n",
       "        [0.09514907, 0.08384918],\n",
       "        [0.08050903, 0.08229838],\n",
       "        [0.09327105, 0.0544254 ],\n",
       "        [0.0200282 , 0.06167836],\n",
       "        [0.07428815, 0.07379174],\n",
       "        [0.0521449 , 0.00684587],\n",
       "        [0.03711129, 0.09207666],\n",
       "        [0.05844489, 0.05383319],\n",
       "        [0.02688535, 0.03684489],\n",
       "        [0.08953461, 0.0666463 ],\n",
       "        [0.0787387 , 0.04543454],\n",
       "        [0.06302472, 0.02483836],\n",
       "        [0.07054608, 0.04276013],\n",
       "        [0.04425455, 0.06493223],\n",
       "        [0.09362806, 0.00640063],\n",
       "        [0.08247432, 0.02923831],\n",
       "        [0.04439195, 0.00219133],\n",
       "        [0.03010461, 0.05026312],\n",
       "        [0.00561761, 0.04910957],\n",
       "        [0.09271106, 0.01053932],\n",
       "        [0.07644407, 0.04096711],\n",
       "        [0.06551737, 0.02602366],\n",
       "        [0.01594923, 0.01604626],\n",
       "        [0.00704919, 0.01856467],\n",
       "        [0.06642194, 0.08816906],\n",
       "        [0.08141257, 0.06851343],\n",
       "        [0.01104319, 0.02891874],\n",
       "        [0.03098069, 0.02499569],\n",
       "        [0.05150057, 0.05355538],\n",
       "        [0.0356886 , 0.03537892],\n",
       "        [0.08285556, 0.07892928],\n",
       "        [0.03077958, 0.09137884],\n",
       "        [0.0952815 , 0.03267425],\n",
       "        [0.03544249, 0.05056342],\n",
       "        [0.09411208, 0.08763194],\n",
       "        [0.0102568 , 0.03927307]]),\n",
       " 'b2': array([[0., 0.]])}"
      ]
     },
     "execution_count": 76,
     "metadata": {},
     "output_type": "execute_result"
    }
   ],
   "source": [
    "our_mlp = MLP(X_train, y_train)\n",
    "our_mlp.wb_dict"
   ]
  }
 ],
 "metadata": {
  "kernelspec": {
   "display_name": ".venv",
   "language": "python",
   "name": "python3"
  },
  "language_info": {
   "name": "python",
   "version": "3.12.4"
  }
 },
 "nbformat": 4,
 "nbformat_minor": 2
}
