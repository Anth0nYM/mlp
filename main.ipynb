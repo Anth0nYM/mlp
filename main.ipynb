{
 "cells": [
  {
   "cell_type": "markdown",
   "metadata": {},
   "source": [
    "# MLP main notebok"
   ]
  },
  {
   "cell_type": "markdown",
   "metadata": {},
   "source": [
    "## Libs"
   ]
  },
  {
   "cell_type": "code",
   "execution_count": 201,
   "metadata": {},
   "outputs": [],
   "source": [
    "from sklearn.neural_network import MLPClassifier\n",
    "from sklearn.model_selection import train_test_split\n",
    "import sklearn.datasets as datasets\n",
    "from sklearn.metrics import confusion_matrix, ConfusionMatrixDisplay, classification_report\n",
    "\n",
    "import numpy as np\n",
    "\n",
    "import matplotlib.pyplot as plt"
   ]
  },
  {
   "cell_type": "markdown",
   "metadata": {},
   "source": [
    "## Load and Split data"
   ]
  },
  {
   "cell_type": "code",
   "execution_count": 203,
   "metadata": {},
   "outputs": [],
   "source": [
    "\n",
    "data = datasets.load_breast_cancer()\n",
    "\n",
    "X, y = data.data, data.target\n",
    "X_train, X_test, y_train, y_test = train_test_split(\n",
    "    X, y, test_size=0.33, random_state=42)"
   ]
  },
  {
   "cell_type": "markdown",
   "metadata": {},
   "source": [
    "## Implementation from scratch"
   ]
  },
  {
   "cell_type": "code",
   "execution_count": 189,
   "metadata": {},
   "outputs": [],
   "source": [
    "class MLP:\n",
    "    '''\n",
    "    Our Multi-layer Perceptron classifier simplified implementation\n",
    "\n",
    "    Attributes\n",
    "    ----------\n",
    "    x: numpy array\n",
    "        Input data\n",
    "    y: numpy array\n",
    "        Output data\n",
    "    hidden: int, default=100\n",
    "        number of neurons in the hidden layer\n",
    "    output: int, default=2\n",
    "        number of neurons in the output layer\n",
    "    '''\n",
    "\n",
    "    def __init__(self, x, y, hidden=100, output=2):\n",
    "        np.random.seed(42)\n",
    "        self.x = x\n",
    "        self.y = y\n",
    "        self.hidden = hidden\n",
    "        self.output = output\n",
    "        self.input = self.x.shape[1]\n",
    "\n",
    "        # Initialization for bias and weights\n",
    "        self.w1 = np.random.rand(self.input, self.hidden) / np.sqrt(self.input)\n",
    "        self.b1 = np.zeros((1, self.hidden))\n",
    "        self.w2 = np.random.rand(self.hidden, self.output) / np.sqrt(self.hidden)\n",
    "        self.b2 = np.zeros((1, self.output))\n",
    "        self.wb_dict = {'w1': self.w1, 'b1': self.b1,\n",
    "                        'w2': self.w2, 'b2': self.b2}\n",
    "\n",
    "        self.z1 = 0\n",
    "        self.f1 = 0\n",
    "\n",
    "    def feed_forward(self, x):\n",
    "        # Equation of the line 1\n",
    "        self.z1 = x.dot(self.w1) + self.b1\n",
    "\n",
    "        # Activation function 1 (Hyperbolic tangent)\n",
    "        self.f1 = np.tanh(self.z1)\n",
    "\n",
    "        # Equation of the line 2\n",
    "        z2 = self.f1.dot(self.w2) + self.b2\n",
    "\n",
    "        # Softmax function\n",
    "        exponential_values = np.exp(z2)\n",
    "        softmax = exponential_values / np.sum(exponential_values, axis=1, keepdims=True)\n",
    "        return softmax\n",
    "\n",
    "    def loss(self, softmax):\n",
    "        # Cross Entropy\n",
    "        log_probs = np.zeros(self.y.shape[0])\n",
    "        for i, correct_index in enumerate(self.y):\n",
    "            predicted = softmax[i][correct_index]\n",
    "            log_probs[i] = -np.log(predicted)\n",
    "        return np.mean(log_probs)\n",
    "\n",
    "    def back_propagation(self, softmax, learning_rate):\n",
    "        delta2 = np.copy(softmax)\n",
    "        delta2[np.arange(self.x.shape[0]), self.y] -= 1\n",
    "        dw2 = (self.f1.T).dot(delta2)\n",
    "        db2 = np.sum(delta2, axis=0, keepdims=True)\n",
    "        delta1 = delta2.dot(self.w2.T) * (1 - np.power(np.tanh(self.z1), 2))\n",
    "        dw1 = (self.x.T).dot(delta1)\n",
    "        db1 = np.sum(delta1, axis=0, keepdims=True)\n",
    "        \n",
    "        # Update weights and biases\n",
    "        self.w1 += - learning_rate * dw1\n",
    "        self.w2 += - learning_rate * dw2\n",
    "        self.b1 += - learning_rate * db1\n",
    "        self.b2 += - learning_rate * db2\n",
    "\n",
    "    def fit(self, epochs, learning_rate):\n",
    "        for epoch in range(epochs):\n",
    "            outputs = self.feed_forward(self.x)\n",
    "            loss = self.loss(outputs)\n",
    "            self.back_propagation(outputs, learning_rate)\n",
    "                  # Acuracia\n",
    "            prediction = np.argmax(outputs, axis = 1)\n",
    "            correct = (prediction == self.y).sum()\n",
    "            accuracy = correct/self.y.shape[0]\n",
    "\n",
    "\n",
    "            if int((epoch+1) % (epochs/10)) == 0:\n",
    "                print(f'Epoch: [{epoch + 1} / {epochs}]  Accuracy: {accuracy:.3f} Loss: {loss.item():.5f}')\n",
    "        \n",
    "    def predict(self, x):\n",
    "        softmax_output = self.feed_forward(x)\n",
    "        return np.argmax(softmax_output, axis=1)\n",
    "    \n"
   ]
  },
  {
   "cell_type": "markdown",
   "metadata": {},
   "source": [
    "## Metrics"
   ]
  },
  {
   "cell_type": "markdown",
   "metadata": {},
   "source": [
    "### SKlearn model"
   ]
  },
  {
   "cell_type": "code",
   "execution_count": 206,
   "metadata": {},
   "outputs": [
    {
     "data": {
      "text/plain": [
       "<sklearn.metrics._plot.confusion_matrix.ConfusionMatrixDisplay at 0x16263749ac0>"
      ]
     },
     "execution_count": 206,
     "metadata": {},
     "output_type": "execute_result"
    },
    {
     "data": {
      "image/png": "[encoded data removed]",
      "text/plain": [
       "<Figure size 640x480 with 2 Axes>"
      ]
     },
     "metadata": {},
     "output_type": "display_data"
    }
   ],
   "source": [
    "skl_mlp = MLPClassifier(random_state=42, max_iter=300).fit(X_train, y_train)\n",
    "y_pred_skl = skl_mlp.predict(X_test)\n",
    "cm = confusion_matrix(y_test, y_pred_skl)\n",
    "disp = ConfusionMatrixDisplay(confusion_matrix=cm)\n",
    "disp.plot()"
   ]
  },
  {
   "cell_type": "markdown",
   "metadata": {},
   "source": [
    "### Our model"
   ]
  },
  {
   "cell_type": "code",
   "execution_count": 210,
   "metadata": {},
   "outputs": [
    {
     "name": "stdout",
     "output_type": "stream",
     "text": [
      "Epoch: [30 / 300]  Accuracy: 0.373 Loss: 21.26254\n",
      "Epoch: [60 / 300]  Accuracy: 0.627 Loss: 19.28125\n",
      "Epoch: [90 / 300]  Accuracy: 0.627 Loss: 8.36850\n",
      "Epoch: [120 / 300]  Accuracy: 0.373 Loss: 2.23635\n",
      "Epoch: [150 / 300]  Accuracy: 0.373 Loss: 20.58415\n",
      "Epoch: [180 / 300]  Accuracy: 0.627 Loss: 19.68547\n",
      "Epoch: [210 / 300]  Accuracy: 0.627 Loss: 8.77250\n",
      "Epoch: [240 / 300]  Accuracy: 0.373 Loss: 2.89114\n",
      "Epoch: [270 / 300]  Accuracy: 0.373 Loss: 21.25809\n",
      "Epoch: [300 / 300]  Accuracy: 0.627 Loss: 19.28149\n"
     ]
    }
   ],
   "source": [
    "our_mlp = MLP(X, y)\n",
    "our_mlp.fit(epochs=300, learning_rate=0.001)"
   ]
  },
  {
   "cell_type": "code",
   "execution_count": 211,
   "metadata": {},
   "outputs": [
    {
     "data": {
      "text/plain": [
       "<sklearn.metrics._plot.confusion_matrix.ConfusionMatrixDisplay at 0x16263bfd430>"
      ]
     },
     "execution_count": 211,
     "metadata": {},
     "output_type": "execute_result"
    },
    {
     "data": {
      "image/png": "[encoded data removed]",
      "text/plain": [
       "<Figure size 640x480 with 2 Axes>"
      ]
     },
     "metadata": {},
     "output_type": "display_data"
    }
   ],
   "source": [
    "y_pred_our = our_mlp.predict(X_test)\n",
    "cm = confusion_matrix(y_test, y_pred_our)\n",
    "disp = ConfusionMatrixDisplay(confusion_matrix=cm)\n",
    "disp.plot()"
   ]
  }
 ],
 "metadata": {
  "kernelspec": {
   "display_name": ".venv",
   "language": "python",
   "name": "python3"
  },
  "language_info": {
   "codemirror_mode": {
    "name": "ipython",
    "version": 3
   },
   "file_extension": ".py",
   "mimetype": "text/x-python",
   "name": "python",
   "nbconvert_exporter": "python",
   "pygments_lexer": "ipython3",
   "version": "3.12.4"
  }
 },
 "nbformat": 4,
 "nbformat_minor": 2
}
