{
 "cells": [
  {
   "cell_type": "markdown",
   "metadata": {},
   "source": [
    "# MLP main notebok"
   ]
  },
  {
   "cell_type": "markdown",
   "metadata": {},
   "source": [
    "## Libs"
   ]
  },
  {
   "cell_type": "code",
   "execution_count": 28,
   "metadata": {},
   "outputs": [],
   "source": [
    "from sklearn.neural_network import MLPClassifier\n",
    "from sklearn.model_selection import train_test_split\n",
    "from sklearn.datasets import load_breast_cancer\n",
    "from sklearn.metrics import confusion_matrix, ConfusionMatrixDisplay, classification_report\n",
    "\n",
    "import numpy as np\n",
    "\n",
    "import matplotlib.pyplot as plt"
   ]
  },
  {
   "cell_type": "markdown",
   "metadata": {},
   "source": [
    "## Load and Split data"
   ]
  },
  {
   "cell_type": "code",
   "execution_count": 29,
   "metadata": {},
   "outputs": [],
   "source": [
    "data = load_breast_cancer()\n",
    "X, y = data.data, data.target\n",
    "X_train, X_test, y_train, y_test = train_test_split(\n",
    "    X, y, test_size=0.33, random_state=42)"
   ]
  },
  {
   "cell_type": "markdown",
   "metadata": {},
   "source": [
    "## SKlearn implementation"
   ]
  },
  {
   "cell_type": "code",
   "execution_count": 30,
   "metadata": {},
   "outputs": [
    {
     "data": {
      "text/plain": [
       "<sklearn.metrics._plot.confusion_matrix.ConfusionMatrixDisplay at 0x162606d7b00>"
      ]
     },
     "execution_count": 30,
     "metadata": {},
     "output_type": "execute_result"
    },
    {
     "data": {
      "image/png": "[encoded data removed]",
      "text/plain": [
       "<Figure size 640x480 with 2 Axes>"
      ]
     },
     "metadata": {},
     "output_type": "display_data"
    }
   ],
   "source": [
    "skl_mlp = MLPClassifier(random_state=42, max_iter=300).fit(X_train, y_train)\n",
    "y_pred = skl_mlp.predict(X_test)\n",
    "cm = confusion_matrix(y_test, y_pred)\n",
    "disp = ConfusionMatrixDisplay(confusion_matrix=cm)\n",
    "disp.plot()"
   ]
  },
  {
   "cell_type": "code",
   "execution_count": 31,
   "metadata": {},
   "outputs": [
    {
     "name": "stdout",
     "output_type": "stream",
     "text": [
      "              precision    recall  f1-score   support\n",
      "\n",
      "           0       0.92      0.97      0.94        67\n",
      "           1       0.98      0.95      0.97       121\n",
      "\n",
      "    accuracy                           0.96       188\n",
      "   macro avg       0.95      0.96      0.95       188\n",
      "weighted avg       0.96      0.96      0.96       188\n",
      "\n"
     ]
    }
   ],
   "source": [
    "print(classification_report(y_test, y_pred))"
   ]
  },
  {
   "cell_type": "markdown",
   "metadata": {},
   "source": [
    "## Implementation from scratch"
   ]
  },
  {
   "cell_type": "code",
   "execution_count": 32,
   "metadata": {},
   "outputs": [],
   "source": [
    "class MLP:\n",
    "    '''\n",
    "    Our Multi-layer Perceptron classifier simplified implementation\n",
    "    \n",
    "    Attributes\n",
    "    ----------\n",
    "    x: numpy array\n",
    "        Input data\n",
    "    y: numpy array\n",
    "        Output data\n",
    "    hidden: int, default=100\n",
    "        number of neurons in the hidden layer\n",
    "    output: int, default=2\n",
    "        number of neurons in the output layer\n",
    "    '''\n",
    "    def __init__(self, x, y, hidden=100, output=2):\n",
    "        np.random.seed(42)\n",
    "        self.x = x\n",
    "        self.y = y\n",
    "        self.hidden = hidden\n",
    "        self.output = output\n",
    "        self.input = self.x.shape[1]\n",
    "\n",
    "        # Initialization for bias and weights\n",
    "        self.w1 = np.random.rand(self.input, self.hidden) / np.sqrt(self.input)\n",
    "        self.b1 = np.zeros((1, self.hidden))\n",
    "        self.w2 = np.random.rand(self.hidden, self.output) / np.sqrt(self.hidden)\n",
    "        self.b2 = np.zeros((1, self.output))\n",
    "        self.wb_dict = {'w1': self.w1, 'b1': self.b1, 'w2': self.w2, 'b2': self.b2}\n",
    "        \n",
    "        self.z1 = 0\n",
    "        self.f1 = 0\n",
    "\n",
    "    def feed_forward(self,x):\n",
    "        # Equation of the line 1\n",
    "        self.z1 = x.dot(self.w1) + self.b1\n",
    "        \n",
    "        #Activation function 1 (Hyperbolic tangent)\n",
    "        self.f1 = np.tanh(self.z1)\n",
    "        \n",
    "        # Equation of the line 2\n",
    "        z2 = self.f1.dot(self.w2) + self.b2\n",
    "        \n",
    "        # Activation function 2 (Hyperbolic tangent)\n",
    "        f2 = np.tanh(z2)\n",
    "        \n",
    "        # Softmax function\n",
    "        exponential_values = np.exp(f2)\n",
    "        softmax = exponential_values / np.sum(exponential_values, axis=1, keepdims=True)\n",
    "        return softmax\n",
    "    \n",
    "    def loss(self, softmax):\n",
    "        # Cross Entropy\n",
    "        log_probabilities = -np.log(softmax[np.arange(len(self.y)), self.y])\n",
    "        return np.mean(log_probabilities)\n",
    "        \n",
    "    \n",
    "    def back_propagation(self):\n",
    "        pass\n",
    "\n",
    "    def fit(self):\n",
    "        pass"
   ]
  },
  {
   "cell_type": "code",
   "execution_count": 34,
   "metadata": {},
   "outputs": [
    {
     "name": "stdout",
     "output_type": "stream",
     "text": [
      "0.0018192980108081842\n"
     ]
    }
   ],
   "source": [
    "our_mlp = MLP(X_train, y_train)\n",
    "softmax = our_mlp.feed_forward(X_train)\n",
    "loss_value = our_mlp.loss(softmax)\n",
    "print(loss_value)"
   ]
  }
 ],
 "metadata": {
  "kernelspec": {
   "display_name": ".venv",
   "language": "python",
   "name": "python3"
  },
  "language_info": {
   "codemirror_mode": {
    "name": "ipython",
    "version": 3
   },
   "file_extension": ".py",
   "mimetype": "text/x-python",
   "name": "python",
   "nbconvert_exporter": "python",
   "pygments_lexer": "ipython3",
   "version": "3.12.4"
  }
 },
 "nbformat": 4,
 "nbformat_minor": 2
}
